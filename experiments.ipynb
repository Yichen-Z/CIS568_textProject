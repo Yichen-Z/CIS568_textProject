{
 "cells": [
  {
   "cell_type": "markdown",
   "metadata": {},
   "source": [
    "# Experimenting with text pre-processing\n",
    "## Combine review title and body"
   ]
  },
  {
   "cell_type": "code",
   "execution_count": 1,
   "metadata": {},
   "outputs": [
    {
     "data": {
      "text/html": [
       "<div>\n",
       "<style scoped>\n",
       "    .dataframe tbody tr th:only-of-type {\n",
       "        vertical-align: middle;\n",
       "    }\n",
       "\n",
       "    .dataframe tbody tr th {\n",
       "        vertical-align: top;\n",
       "    }\n",
       "\n",
       "    .dataframe thead th {\n",
       "        text-align: right;\n",
       "    }\n",
       "</style>\n",
       "<table border=\"1\" class=\"dataframe\">\n",
       "  <thead>\n",
       "    <tr style=\"text-align: right;\">\n",
       "      <th></th>\n",
       "      <th>review_title</th>\n",
       "      <th>review_verbatim</th>\n",
       "      <th>role</th>\n",
       "      <th>status</th>\n",
       "      <th>location</th>\n",
       "      <th>date</th>\n",
       "      <th>rating</th>\n",
       "      <th>combined_text</th>\n",
       "    </tr>\n",
       "  </thead>\n",
       "  <tbody>\n",
       "    <tr>\n",
       "      <th>0</th>\n",
       "      <td>Good work life balance, but lower than average...</td>\n",
       "      <td>Work assignments are challenging and the organ...</td>\n",
       "      <td>Business Analysis Consultant Sr - IT</td>\n",
       "      <td>Current Employee</td>\n",
       "      <td>Pittsburgh, PA</td>\n",
       "      <td>October 24, 2022</td>\n",
       "      <td>3.0</td>\n",
       "      <td>Good work life balance, but lower than average...</td>\n",
       "    </tr>\n",
       "    <tr>\n",
       "      <th>1</th>\n",
       "      <td>Not a very stable place at the moment</td>\n",
       "      <td>this bank overall was not that bad to work for...</td>\n",
       "      <td>Bank Teller</td>\n",
       "      <td>Former Employee</td>\n",
       "      <td>Bristol, PA</td>\n",
       "      <td>October 23, 2022</td>\n",
       "      <td>4.0</td>\n",
       "      <td>Not a very stable place at the moment. this ba...</td>\n",
       "    </tr>\n",
       "    <tr>\n",
       "      <th>2</th>\n",
       "      <td>Good Place to Work</td>\n",
       "      <td>this bank was a good place to work at. They ha...</td>\n",
       "      <td>Mortgage Loan Processor III</td>\n",
       "      <td>Former Employee</td>\n",
       "      <td>Downers Grove Illinois</td>\n",
       "      <td>October 22, 2022</td>\n",
       "      <td>4.0</td>\n",
       "      <td>Good Place to Work. this bank was a good place...</td>\n",
       "    </tr>\n",
       "    <tr>\n",
       "      <th>3</th>\n",
       "      <td>4 stars</td>\n",
       "      <td>What is the best part of working at the compan...</td>\n",
       "      <td>Lockbox Processor</td>\n",
       "      <td>Former Employee</td>\n",
       "      <td>Mount Laurel, NJ</td>\n",
       "      <td>October 22, 2022</td>\n",
       "      <td>4.0</td>\n",
       "      <td>4 stars. What is the best part of working at t...</td>\n",
       "    </tr>\n",
       "  </tbody>\n",
       "</table>\n",
       "</div>"
      ],
      "text/plain": [
       "                                        review_title  \\\n",
       "0  Good work life balance, but lower than average...   \n",
       "1              Not a very stable place at the moment   \n",
       "2                                 Good Place to Work   \n",
       "3                                            4 stars   \n",
       "\n",
       "                                     review_verbatim  \\\n",
       "0  Work assignments are challenging and the organ...   \n",
       "1  this bank overall was not that bad to work for...   \n",
       "2  this bank was a good place to work at. They ha...   \n",
       "3  What is the best part of working at the compan...   \n",
       "\n",
       "                                   role            status  \\\n",
       "0  Business Analysis Consultant Sr - IT  Current Employee   \n",
       "1                           Bank Teller   Former Employee   \n",
       "2           Mortgage Loan Processor III   Former Employee   \n",
       "3                     Lockbox Processor   Former Employee   \n",
       "\n",
       "                 location              date  rating  \\\n",
       "0          Pittsburgh, PA  October 24, 2022     3.0   \n",
       "1             Bristol, PA  October 23, 2022     4.0   \n",
       "2  Downers Grove Illinois  October 22, 2022     4.0   \n",
       "3        Mount Laurel, NJ  October 22, 2022     4.0   \n",
       "\n",
       "                                       combined_text  \n",
       "0  Good work life balance, but lower than average...  \n",
       "1  Not a very stable place at the moment. this ba...  \n",
       "2  Good Place to Work. this bank was a good place...  \n",
       "3  4 stars. What is the best part of working at t...  "
      ]
     },
     "execution_count": 1,
     "metadata": {},
     "output_type": "execute_result"
    }
   ],
   "source": [
    "import pandas as pd\n",
    "\n",
    "TINY_FILE = r'baby_train.csv'\n",
    "tiny_df = pd.read_csv(TINY_FILE)\n",
    "tiny_df['combined_text'] = tiny_df['review_title'] + '. ' + tiny_df['review_verbatim']\n",
    "tiny_df.head()"
   ]
  },
  {
   "cell_type": "code",
   "execution_count": 26,
   "metadata": {},
   "outputs": [
    {
     "name": "stdout",
     "output_type": "stream",
     "text": [
      "Noun phrases: ['they', 'allot', 'positions', 'they', 'allot', 'branches cashless', 'you', 'a banker', 'you', 'I', 'my time', 'a teller', 'They', '5 years', '45%', 'tellers', 'They', 'positions', 'the extra work', 'others', 'any extra compensation', 'I']\n",
      "5 years DATE\n",
      "45% PERCENT\n"
     ]
    }
   ],
   "source": [
    "import spacy\n",
    "\n",
    "nlp = spacy.load('en_core_web_sm')\n",
    "\n",
    "text = 'this bank overall was not that bad to work for however, they are doing away with allot of positions and they are making allot of branches cashless. If you are a banker you will be fine but I would not waste my time being a teller. They have said within 5 years over 45% of tellers will be gone. They are doing away with positions and putting the extra work on others without any extra compensation. I woukd not go back'\n",
    "doc = nlp(text)\n",
    "\n",
    "print(\"Noun phrases:\", [chunk.text for chunk in doc.noun_chunks])\n",
    "\n",
    "for entity in doc.ents:\n",
    "    print(entity.text, entity.label_)"
   ]
  },
  {
   "cell_type": "code",
   "execution_count": 44,
   "metadata": {},
   "outputs": [
    {
     "name": "stderr",
     "output_type": "stream",
     "text": [
      "10/25/2022 21:17:32 - INFO - \t missing_keys: []\n",
      "10/25/2022 21:17:32 - INFO - \t unexpected_keys: []\n",
      "10/25/2022 21:17:32 - INFO - \t mismatched_keys: []\n",
      "10/25/2022 21:17:32 - INFO - \t error_msgs: []\n",
      "10/25/2022 21:17:32 - INFO - \t Model Parameters: 90.5M, Transformer: 82.1M, Coref head: 8.4M\n",
      "10/25/2022 21:17:33 - INFO - \t Tokenize 4 texts...\n",
      "  0%|          | 0/1 [00:00<?, ?ba/s]\n",
      "10/25/2022 21:17:33 - INFO - \t ***** Running Inference on 4 texts *****\n",
      "Inference: 100%|██████████| 4/4 [00:01<00:00,  2.45it/s]\n"
     ]
    },
    {
     "data": {
      "text/html": [
       "<div>\n",
       "<style scoped>\n",
       "    .dataframe tbody tr th:only-of-type {\n",
       "        vertical-align: middle;\n",
       "    }\n",
       "\n",
       "    .dataframe tbody tr th {\n",
       "        vertical-align: top;\n",
       "    }\n",
       "\n",
       "    .dataframe thead th {\n",
       "        text-align: right;\n",
       "    }\n",
       "</style>\n",
       "<table border=\"1\" class=\"dataframe\">\n",
       "  <thead>\n",
       "    <tr style=\"text-align: right;\">\n",
       "      <th></th>\n",
       "      <th>review_title</th>\n",
       "      <th>review_verbatim</th>\n",
       "      <th>role</th>\n",
       "      <th>status</th>\n",
       "      <th>location</th>\n",
       "      <th>date</th>\n",
       "      <th>rating</th>\n",
       "      <th>combined_text</th>\n",
       "      <th>antecedents_replaced</th>\n",
       "    </tr>\n",
       "  </thead>\n",
       "  <tbody>\n",
       "    <tr>\n",
       "      <th>0</th>\n",
       "      <td>Good work life balance, but lower than average...</td>\n",
       "      <td>Work assignments are challenging and the organ...</td>\n",
       "      <td>Business Analysis Consultant Sr - IT</td>\n",
       "      <td>Current Employee</td>\n",
       "      <td>Pittsburgh, PA</td>\n",
       "      <td>October 24, 2022</td>\n",
       "      <td>3.0</td>\n",
       "      <td>Good work life balance, but lower than average...</td>\n",
       "      <td>Good work life balance, but lower than average...</td>\n",
       "    </tr>\n",
       "    <tr>\n",
       "      <th>1</th>\n",
       "      <td>Not a very stable place at the moment</td>\n",
       "      <td>this bank overall was not that bad to work for...</td>\n",
       "      <td>Bank Teller</td>\n",
       "      <td>Former Employee</td>\n",
       "      <td>Bristol, PA</td>\n",
       "      <td>October 23, 2022</td>\n",
       "      <td>4.0</td>\n",
       "      <td>Not a very stable place at the moment. this ba...</td>\n",
       "      <td>Not a very stable place at the moment. this ba...</td>\n",
       "    </tr>\n",
       "    <tr>\n",
       "      <th>2</th>\n",
       "      <td>Good Place to Work</td>\n",
       "      <td>this bank was a good place to work at. They ha...</td>\n",
       "      <td>Mortgage Loan Processor III</td>\n",
       "      <td>Former Employee</td>\n",
       "      <td>Downers Grove Illinois</td>\n",
       "      <td>October 22, 2022</td>\n",
       "      <td>4.0</td>\n",
       "      <td>Good Place to Work. this bank was a good place...</td>\n",
       "      <td>Good Place to Work. this bank was a good place...</td>\n",
       "    </tr>\n",
       "    <tr>\n",
       "      <th>3</th>\n",
       "      <td>4 stars</td>\n",
       "      <td>What is the best part of working at the compan...</td>\n",
       "      <td>Lockbox Processor</td>\n",
       "      <td>Former Employee</td>\n",
       "      <td>Mount Laurel, NJ</td>\n",
       "      <td>October 22, 2022</td>\n",
       "      <td>4.0</td>\n",
       "      <td>4 stars. What is the best part of working at t...</td>\n",
       "      <td>4 stars. What is the best part of working at t...</td>\n",
       "    </tr>\n",
       "  </tbody>\n",
       "</table>\n",
       "</div>"
      ],
      "text/plain": [
       "                                        review_title  \\\n",
       "0  Good work life balance, but lower than average...   \n",
       "1              Not a very stable place at the moment   \n",
       "2                                 Good Place to Work   \n",
       "3                                            4 stars   \n",
       "\n",
       "                                     review_verbatim  \\\n",
       "0  Work assignments are challenging and the organ...   \n",
       "1  this bank overall was not that bad to work for...   \n",
       "2  this bank was a good place to work at. They ha...   \n",
       "3  What is the best part of working at the compan...   \n",
       "\n",
       "                                   role            status  \\\n",
       "0  Business Analysis Consultant Sr - IT  Current Employee   \n",
       "1                           Bank Teller   Former Employee   \n",
       "2           Mortgage Loan Processor III   Former Employee   \n",
       "3                     Lockbox Processor   Former Employee   \n",
       "\n",
       "                 location              date  rating  \\\n",
       "0          Pittsburgh, PA  October 24, 2022     3.0   \n",
       "1             Bristol, PA  October 23, 2022     4.0   \n",
       "2  Downers Grove Illinois  October 22, 2022     4.0   \n",
       "3        Mount Laurel, NJ  October 22, 2022     4.0   \n",
       "\n",
       "                                       combined_text  \\\n",
       "0  Good work life balance, but lower than average...   \n",
       "1  Not a very stable place at the moment. this ba...   \n",
       "2  Good Place to Work. this bank was a good place...   \n",
       "3  4 stars. What is the best part of working at t...   \n",
       "\n",
       "                                antecedents_replaced  \n",
       "0  Good work life balance, but lower than average...  \n",
       "1  Not a very stable place at the moment. this ba...  \n",
       "2  Good Place to Work. this bank was a good place...  \n",
       "3  4 stars. What is the best part of working at t...  "
      ]
     },
     "execution_count": 44,
     "metadata": {},
     "output_type": "execute_result"
    }
   ],
   "source": [
    "from fastcoref import spacy_component\n",
    "import spacy\n",
    "\n",
    "# review = ['this bank overall was not that bad to work for however, they are doing away with allot of positions and they are making allot of branches cashless. If you are a banker you will be fine but I would not waste my time being a teller. They have said within 5 years over 45% of tellers will be gone. They are doing away with positions and putting the extra work on others without any extra compensation. I woukd not go back']\n",
    "review = tiny_df['combined_text']\n",
    "\n",
    "nlp = spacy.load(\"en_core_web_sm\", exclude=[\"parser\", \"lemmatizer\", \"ner\", \"textcat\"])\n",
    "nlp.add_pipe(\"fastcoref\")\n",
    "\n",
    "docs = nlp.pipe(\n",
    "   review, \n",
    "   component_cfg={\"fastcoref\": {'resolve_text': True}}\n",
    ")\n",
    "\n",
    "changed_list = []\n",
    "for doc in docs:\n",
    "   changed_list.append(doc._.resolved_text)\n",
    "\n",
    "tiny_df['antecedents_replaced'] = changed_list\n",
    "tiny_df.head()\n",
    "\n"
   ]
  },
  {
   "cell_type": "markdown",
   "metadata": {},
   "source": [
    "## Now to split each review into individual sentences\n",
    "Sentencizer from spaCy does basic rule-based sentence boundary detection"
   ]
  },
  {
   "cell_type": "code",
   "execution_count": 68,
   "metadata": {},
   "outputs": [
    {
     "ename": "TypeError",
     "evalue": "'tuple' object is not callable",
     "output_type": "error",
     "traceback": [
      "\u001b[1;31m---------------------------------------------------------------------------\u001b[0m",
      "\u001b[1;31mTypeError\u001b[0m                                 Traceback (most recent call last)",
      "Cell \u001b[1;32mIn [68], line 2\u001b[0m\n\u001b[0;32m      1\u001b[0m review \u001b[39m=\u001b[39m \u001b[39m'\u001b[39m\u001b[39mthis bank overall was not that bad to work for however, they are doing away with allot of positions and they are making allot of branches cashless. If you are a banker you will be fine but I would not waste my time being a teller. They have said within 5 years over 45\u001b[39m\u001b[39m% o\u001b[39;00m\u001b[39mf tellers will be gone. They are doing away with positions and putting the extra work on others without any extra compensation. I woukd not go back\u001b[39m\u001b[39m'\u001b[39m\n\u001b[1;32m----> 2\u001b[0m sentence_doc \u001b[39m=\u001b[39m nlp(review)\n\u001b[0;32m      3\u001b[0m sents_list \u001b[39m=\u001b[39m []\n\u001b[0;32m      4\u001b[0m \u001b[39mfor\u001b[39;00m sent \u001b[39min\u001b[39;00m sentence_doc\u001b[39m.\u001b[39msents:\n",
      "\u001b[1;31mTypeError\u001b[0m: 'tuple' object is not callable"
     ]
    }
   ],
   "source": [
    "review = 'this bank overall was not that bad to work for however, they are doing away with allot of positions and they are making allot of branches cashless. If you are a banker you will be fine but I would not waste my time being a teller. They have said within 5 years over 45% of tellers will be gone. They are doing away with positions and putting the extra work on others without any extra compensation. I woukd not go back'\n",
    "sentence_doc = nlp(review)\n",
    "sents_list = []\n",
    "for sent in sentence_doc.sents:\n",
    "    sents_list.append(sent.text)\n",
    "\n",
    "print(sents_list)"
   ]
  },
  {
   "cell_type": "code",
   "execution_count": 48,
   "metadata": {},
   "outputs": [
    {
     "data": {
      "text/html": [
       "<div>\n",
       "<style scoped>\n",
       "    .dataframe tbody tr th:only-of-type {\n",
       "        vertical-align: middle;\n",
       "    }\n",
       "\n",
       "    .dataframe tbody tr th {\n",
       "        vertical-align: top;\n",
       "    }\n",
       "\n",
       "    .dataframe thead th {\n",
       "        text-align: right;\n",
       "    }\n",
       "</style>\n",
       "<table border=\"1\" class=\"dataframe\">\n",
       "  <thead>\n",
       "    <tr style=\"text-align: right;\">\n",
       "      <th></th>\n",
       "      <th>review_title</th>\n",
       "      <th>review_verbatim</th>\n",
       "      <th>role</th>\n",
       "      <th>status</th>\n",
       "      <th>location</th>\n",
       "      <th>date</th>\n",
       "      <th>rating</th>\n",
       "      <th>combined_text</th>\n",
       "      <th>antecedents_replaced</th>\n",
       "      <th>review_id</th>\n",
       "    </tr>\n",
       "  </thead>\n",
       "  <tbody>\n",
       "    <tr>\n",
       "      <th>0</th>\n",
       "      <td>Good work life balance, but lower than average...</td>\n",
       "      <td>Work assignments are challenging and the organ...</td>\n",
       "      <td>Business Analysis Consultant Sr - IT</td>\n",
       "      <td>Current Employee</td>\n",
       "      <td>Pittsburgh, PA</td>\n",
       "      <td>October 24, 2022</td>\n",
       "      <td>3.0</td>\n",
       "      <td>Good work life balance, but lower than average...</td>\n",
       "      <td>Good work life balance, but lower than average...</td>\n",
       "      <td>0</td>\n",
       "    </tr>\n",
       "    <tr>\n",
       "      <th>1</th>\n",
       "      <td>Not a very stable place at the moment</td>\n",
       "      <td>this bank overall was not that bad to work for...</td>\n",
       "      <td>Bank Teller</td>\n",
       "      <td>Former Employee</td>\n",
       "      <td>Bristol, PA</td>\n",
       "      <td>October 23, 2022</td>\n",
       "      <td>4.0</td>\n",
       "      <td>Not a very stable place at the moment. this ba...</td>\n",
       "      <td>Not a very stable place at the moment. this ba...</td>\n",
       "      <td>1</td>\n",
       "    </tr>\n",
       "    <tr>\n",
       "      <th>2</th>\n",
       "      <td>Good Place to Work</td>\n",
       "      <td>this bank was a good place to work at. They ha...</td>\n",
       "      <td>Mortgage Loan Processor III</td>\n",
       "      <td>Former Employee</td>\n",
       "      <td>Downers Grove Illinois</td>\n",
       "      <td>October 22, 2022</td>\n",
       "      <td>4.0</td>\n",
       "      <td>Good Place to Work. this bank was a good place...</td>\n",
       "      <td>Good Place to Work. this bank was a good place...</td>\n",
       "      <td>2</td>\n",
       "    </tr>\n",
       "    <tr>\n",
       "      <th>3</th>\n",
       "      <td>4 stars</td>\n",
       "      <td>What is the best part of working at the compan...</td>\n",
       "      <td>Lockbox Processor</td>\n",
       "      <td>Former Employee</td>\n",
       "      <td>Mount Laurel, NJ</td>\n",
       "      <td>October 22, 2022</td>\n",
       "      <td>4.0</td>\n",
       "      <td>4 stars. What is the best part of working at t...</td>\n",
       "      <td>4 stars. What is the best part of working at t...</td>\n",
       "      <td>3</td>\n",
       "    </tr>\n",
       "  </tbody>\n",
       "</table>\n",
       "</div>"
      ],
      "text/plain": [
       "                                        review_title  \\\n",
       "0  Good work life balance, but lower than average...   \n",
       "1              Not a very stable place at the moment   \n",
       "2                                 Good Place to Work   \n",
       "3                                            4 stars   \n",
       "\n",
       "                                     review_verbatim  \\\n",
       "0  Work assignments are challenging and the organ...   \n",
       "1  this bank overall was not that bad to work for...   \n",
       "2  this bank was a good place to work at. They ha...   \n",
       "3  What is the best part of working at the compan...   \n",
       "\n",
       "                                   role            status  \\\n",
       "0  Business Analysis Consultant Sr - IT  Current Employee   \n",
       "1                           Bank Teller   Former Employee   \n",
       "2           Mortgage Loan Processor III   Former Employee   \n",
       "3                     Lockbox Processor   Former Employee   \n",
       "\n",
       "                 location              date  rating  \\\n",
       "0          Pittsburgh, PA  October 24, 2022     3.0   \n",
       "1             Bristol, PA  October 23, 2022     4.0   \n",
       "2  Downers Grove Illinois  October 22, 2022     4.0   \n",
       "3        Mount Laurel, NJ  October 22, 2022     4.0   \n",
       "\n",
       "                                       combined_text  \\\n",
       "0  Good work life balance, but lower than average...   \n",
       "1  Not a very stable place at the moment. this ba...   \n",
       "2  Good Place to Work. this bank was a good place...   \n",
       "3  4 stars. What is the best part of working at t...   \n",
       "\n",
       "                                antecedents_replaced  review_id  \n",
       "0  Good work life balance, but lower than average...          0  \n",
       "1  Not a very stable place at the moment. this ba...          1  \n",
       "2  Good Place to Work. this bank was a good place...          2  \n",
       "3  4 stars. What is the best part of working at t...          3  "
      ]
     },
     "execution_count": 48,
     "metadata": {},
     "output_type": "execute_result"
    }
   ],
   "source": [
    "tiny_df['review_id'] = tiny_df.index\n",
    "tiny_df.head()"
   ]
  },
  {
   "cell_type": "code",
   "execution_count": 49,
   "metadata": {},
   "outputs": [
    {
     "name": "stderr",
     "output_type": "stream",
     "text": [
      "10/25/2022 21:55:17 - INFO - \t Tokenize 4 texts...\n",
      "  0%|          | 0/1 [00:00<?, ?ba/s]\n",
      "10/25/2022 21:55:18 - INFO - \t ***** Running Inference on 4 texts *****\n",
      "Inference: 100%|██████████| 4/4 [00:01<00:00,  2.20it/s]"
     ]
    },
    {
     "name": "stdout",
     "output_type": "stream",
     "text": [
      "[Good work life balance, but lower than average compensation., Work assignments are challenging and the organization as a whole shifted focus to advancing technology., Employees who perform and earn high ratings do have opportunities to advance depending on the role., the organization as a whole is flexible with remote work and time off benefits are good., Negative would be that job titles and roles often can be misleading., In many instances business analysts work as certified scrum product owners but do not receive compensation of certified scrum product owners., Analysts are often expected to do the work of job titles and roles, acting as product owner and analyst on Agile development crew., the organization as a whole seems to favor compensating employees who leave and return vs. retaining / rewarding performers., Not a very stable place at the moment., this bank overall was not that bad to work for however, this bank are doing away with allot of positions and this bank are making allot of branches cashless., If you are a banker you will be fine but I would not waste my time being a teller., this bank have said within 5 years over 45% of tellers will be gone., this bank are doing away with positions and putting the extra work on others without any extra compensation., I woukd not go back., Good Place to Work., this bank was a good place to work at., this bank had great benefits, great co-workers, tuition reimbursement, and good management., The only downfall was room to grow., 4 stars., What is the best part of working at the company?, the company have decent benefits and seem to have a healthy and supportive work environment., Management makes it a point to include riddles during meetings and provide free snack stations in every department that are always stock with candy, chips etc . &, What is the most stressful part about working at the company?, for me the most stressful part about working at the company was the shift, overnight 10pm-6:30am, along wit car issues that did me in and ended my employment., Sleeping during the day was difficult as well., What is the work environment and culture like at the company?, Positive and supportive for the most part What is a typical day like for you at the company?, punch in, put on my headphones and start prepping my station for the client I have a typical day.]\n"
     ]
    },
    {
     "name": "stderr",
     "output_type": "stream",
     "text": [
      "\n"
     ]
    }
   ],
   "source": [
    "# Make a new dataframe of the separate sentences, but keep the review_id somehow\n",
    "review = tiny_df['antecedents_replaced']\n",
    "\n",
    "docs = list(nlp.pipe(review))\n",
    "# sents_list = []\n",
    "# for doc in docs:\n",
    "#     for sent in doc.sents:\n",
    "#         sents_list.append(sent)\n",
    "\n",
    "# print(sents_list)"
   ]
  },
  {
   "cell_type": "code",
   "execution_count": 62,
   "metadata": {},
   "outputs": [],
   "source": [
    "simple_nlp = spacy.load(\"en_core_web_sm\", exclude=[\"lemmatizer\", \"ner\", \"textcat\"])\n",
    "\n",
    "tiny_df[\"sentences\"] = tiny_df[\"antecedents_replaced\"].apply(lambda x: [sent.text for sent in simple_nlp(x).sents])\n",
    "\n",
    "tiny_df.to_csv('test1.csv')"
   ]
  },
  {
   "cell_type": "markdown",
   "metadata": {},
   "source": [
    "## Sentiment from HuggingFace\n",
    "Need to connect to HuggingFace models such as Bert-base-multilingual-uncased-sentiment"
   ]
  },
  {
   "cell_type": "code",
   "execution_count": 69,
   "metadata": {},
   "outputs": [
    {
     "data": {
      "text/plain": [
       "[{'label': 'POSITIVE', 'score': 0.7007424831390381},\n",
       " {'label': 'POSITIVE', 'score': 0.9516314268112183}]"
      ]
     },
     "execution_count": 69,
     "metadata": {},
     "output_type": "execute_result"
    }
   ],
   "source": [
    "from transformers import pipeline\n",
    "\n",
    "sentiment_model = pipeline(\"sentiment-analysis\")\n",
    "\n",
    "data = ['Good work life balance, but lower than average compensation','Work assignments are challenging and the organization as a whole shifted focus to advancing technology.']\n",
    "sentiment_model(data)"
   ]
  },
  {
   "cell_type": "code",
   "execution_count": 70,
   "metadata": {},
   "outputs": [],
   "source": [
    "# Now can I get a corresponding sentiment for each sentence?\n",
    "tiny_df[\"sentiment\"] = tiny_df[\"sentences\"].apply(lambda x: sentiment_model(x))\n",
    "\n",
    "tiny_df.to_csv('test2_sentiment.csv')"
   ]
  }
 ],
 "metadata": {
  "kernelspec": {
   "display_name": "Python 3.9.13 ('review_venv': venv)",
   "language": "python",
   "name": "python3"
  },
  "language_info": {
   "codemirror_mode": {
    "name": "ipython",
    "version": 3
   },
   "file_extension": ".py",
   "mimetype": "text/x-python",
   "name": "python",
   "nbconvert_exporter": "python",
   "pygments_lexer": "ipython3",
   "version": "3.9.13"
  },
  "orig_nbformat": 4,
  "vscode": {
   "interpreter": {
    "hash": "57c8240fb9f8b833b045e961c68ce448682b5353b732b19b862f259a46a6dd53"
   }
  }
 },
 "nbformat": 4,
 "nbformat_minor": 2
}
