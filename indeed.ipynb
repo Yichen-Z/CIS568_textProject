{
 "cells": [
  {
   "cell_type": "markdown",
   "metadata": {},
   "source": [
    "# Collecting Employer Review Data from Indeed\n",
    "\n",
    "Business value:\n",
    "- To employers: Identify 1-2 key pain points that can be improved\n",
    "- To job seekers: Understand at a glance what it's like to work within that organization\n",
    "- To competitors: Learn from peers' successes and misses\n",
    "\n",
    "Who already does something similar: Glassdoor - simple summaries and 1-to-1 comparisons of individual organizations\n",
    "\n",
    "## Next actions\n",
    "- Correct formatting error that bumps data values off the dataframe\n",
    "- Ensure that the loop will not disregard the last few reviews\n",
    "- Create summary graphics\n",
    "    - Distribution of ratings by year\n",
    "    - Median monthly ratings\n",
    "    - Roles' review counts\n",
    "- Try LDA groupings\n",
    "    - On the roles\n",
    "    - On the review text\n",
    "- Classify\n",
    "    - Roles\n",
    "    - Reviews\n",
    "- Aspect-level sentiment\n",
    "    - Extract key concepts/points from text\n",
    "    - Assign each concept/point sentiment (positive, neutral, negative)"
   ]
  },
  {
   "cell_type": "code",
   "execution_count": 4,
   "metadata": {},
   "outputs": [],
   "source": [
    "from bs4 import BeautifulSoup\n",
    "import pandas as pd\n",
    "import requests\n",
    "import re\n",
    "\n",
    "BASE_URL = r'https://www.indeed.com/cmp/Pnc-Financial-Services-Group/reviews?start='\n",
    "# URL_START = r'https://www.indeed.com/cmp/Truist-Financial/reviews?start='\n",
    "# URL_END = r'&lang=en'\n",
    "df = pd.DataFrame({'review_title': [], 'review_verbatim': [], 'role': [], 'status': [], 'location': [], 'date': [], 'rating': []})"
   ]
  },
  {
   "cell_type": "markdown",
   "metadata": {},
   "source": [
    "Here's the original from Towards Data Science (Yasser Elsedawy)"
   ]
  },
  {
   "cell_type": "code",
   "execution_count": 5,
   "metadata": {},
   "outputs": [
    {
     "ename": "AttributeError",
     "evalue": "'NoneType' object has no attribute 'find_all'",
     "output_type": "error",
     "traceback": [
      "\u001b[1;31m---------------------------------------------------------------------------\u001b[0m",
      "\u001b[1;31mAttributeError\u001b[0m                            Traceback (most recent call last)",
      "\u001b[1;32mc:\\Users\\house\\workspace\\Practice\\Code\\indeed.ipynb Cell 4\u001b[0m in \u001b[0;36m<cell line: 8>\u001b[1;34m()\u001b[0m\n\u001b[0;32m     <a href='vscode-notebook-cell:/c%3A/Users/house/workspace/Practice/Code/indeed.ipynb#W3sZmlsZQ%3D%3D?line=11'>12</a>\u001b[0m soup \u001b[39m=\u001b[39m BeautifulSoup(page\u001b[39m.\u001b[39mcontent, \u001b[39m'\u001b[39m\u001b[39mlxml\u001b[39m\u001b[39m'\u001b[39m)\n\u001b[0;32m     <a href='vscode-notebook-cell:/c%3A/Users/house/workspace/Practice/Code/indeed.ipynb#W3sZmlsZQ%3D%3D?line=12'>13</a>\u001b[0m results \u001b[39m=\u001b[39m soup\u001b[39m.\u001b[39mfind(\u001b[39m\"\u001b[39m\u001b[39mdiv\u001b[39m\u001b[39m\"\u001b[39m, {\u001b[39m\"\u001b[39m\u001b[39mclass\u001b[39m\u001b[39m\"\u001b[39m:\u001b[39m\"\u001b[39m\u001b[39mcmp-ReviewsList\u001b[39m\u001b[39m\"\u001b[39m})\n\u001b[1;32m---> <a href='vscode-notebook-cell:/c%3A/Users/house/workspace/Practice/Code/indeed.ipynb#W3sZmlsZQ%3D%3D?line=13'>14</a>\u001b[0m elems \u001b[39m=\u001b[39m results\u001b[39m.\u001b[39;49mfind_all(attrs\u001b[39m=\u001b[39m{\u001b[39m\"\u001b[39m\u001b[39mdata-tn-section\u001b[39m\u001b[39m\"\u001b[39m:\u001b[39m\"\u001b[39m\u001b[39mreviews\u001b[39m\u001b[39m\"\u001b[39m}) \n\u001b[0;32m     <a href='vscode-notebook-cell:/c%3A/Users/house/workspace/Practice/Code/indeed.ipynb#W3sZmlsZQ%3D%3D?line=14'>15</a>\u001b[0m \u001b[39mfor\u001b[39;00m elem \u001b[39min\u001b[39;00m elems:\n\u001b[0;32m     <a href='vscode-notebook-cell:/c%3A/Users/house/workspace/Practice/Code/indeed.ipynb#W3sZmlsZQ%3D%3D?line=15'>16</a>\u001b[0m     title \u001b[39m=\u001b[39m elem\u001b[39m.\u001b[39mfind(attrs \u001b[39m=\u001b[39m {\u001b[39m'\u001b[39m\u001b[39mdata-testid\u001b[39m\u001b[39m'\u001b[39m: \u001b[39m'\u001b[39m\u001b[39mtitle\u001b[39m\u001b[39m'\u001b[39m})\n",
      "\u001b[1;31mAttributeError\u001b[0m: 'NoneType' object has no attribute 'find_all'"
     ]
    }
   ],
   "source": [
    "ROLE_REGEX = re.compile(r\"[\\w\\s]+\\(\") # matches the author role\n",
    "STATUS_REGEX = re.compile(r\"\\(\\w+ \\w+\\)\") # matches whether current or former employee\n",
    "BRACE_REPLACE = re.compile(r\"(\\(|\\))\") # replaces the () in above matching texts\n",
    "\n",
    "# REVIEW_COUNT = 3284\n",
    "PAGES = 120\n",
    "\n",
    "for i in range(7): # 352 would get them all as of June 2022\n",
    "    url = f'{BASE_URL}{i*20}'\n",
    "    header = {\"User-Agent\": \"Mozilla/5.0 (Windows NT 10.0; Win64; x64; rv:104.0) Gecko/20100101 Firefox/104.0\"}\n",
    "    page = requests.get(url, headers=header)\n",
    "    soup = BeautifulSoup(page.content, 'lxml')\n",
    "    results = soup.find(\"div\", {\"class\":\"cmp-ReviewsList\"})\n",
    "    elems = results.find_all(attrs={\"data-tn-section\":\"reviews\"}) \n",
    "    for elem in elems:\n",
    "        title = elem.find(attrs = {'data-testid': 'title'})\n",
    "        review = elem.find('div', {'data-tn-component': 'reviewDescription'})\n",
    "        author = elem.find(attrs = {'itemprop': 'author'})\n",
    "        author_details = author.text.split('-')\n",
    "        rating = elem.find(attrs = {'class': \"css-1c33izo e1wnkr790\"})\n",
    "        # rating = elem.find(attrs = {'aria-label': re.compile(\"\\d.\\d out of 5 stars.\")})\n",
    "        \n",
    "        # fine-tuning\n",
    "        temp = ROLE_REGEX.search(author_details[0])\n",
    "        try:\n",
    "            author_role = BRACE_REPLACE.sub(\"\", temp.group(0))\n",
    "        except:\n",
    "            author_role = \"None\"\n",
    "        temp = STATUS_REGEX.search(author_details[0])\n",
    "        try:\n",
    "            author_status = BRACE_REPLACE.sub(\"\", temp.group(0))\n",
    "        except:\n",
    "            author_status = \"None\"\n",
    "\n",
    "        df = df.append({'review_title': title.text, 'review_verbatim': review.text, 'role': author_role.strip(), 'status': author_status.strip(), 'location': author_details[1].strip(), 'date': author_details[2].strip(), 'rating': rating.text}, ignore_index=True)"
   ]
  },
  {
   "cell_type": "markdown",
   "metadata": {},
   "source": [
    "Moment of truth:\n",
    "- Does anything get fetched back?\n",
    "- Do the hiddle text stay hidden?"
   ]
  },
  {
   "cell_type": "code",
   "execution_count": 6,
   "metadata": {},
   "outputs": [
    {
     "data": {
      "text/html": [
       "<div>\n",
       "<style scoped>\n",
       "    .dataframe tbody tr th:only-of-type {\n",
       "        vertical-align: middle;\n",
       "    }\n",
       "\n",
       "    .dataframe tbody tr th {\n",
       "        vertical-align: top;\n",
       "    }\n",
       "\n",
       "    .dataframe thead th {\n",
       "        text-align: right;\n",
       "    }\n",
       "</style>\n",
       "<table border=\"1\" class=\"dataframe\">\n",
       "  <thead>\n",
       "    <tr style=\"text-align: right;\">\n",
       "      <th></th>\n",
       "      <th>review_title</th>\n",
       "      <th>review_verbatim</th>\n",
       "      <th>role</th>\n",
       "      <th>status</th>\n",
       "      <th>location</th>\n",
       "      <th>date</th>\n",
       "      <th>rating</th>\n",
       "    </tr>\n",
       "  </thead>\n",
       "  <tbody>\n",
       "  </tbody>\n",
       "</table>\n",
       "</div>"
      ],
      "text/plain": [
       "Empty DataFrame\n",
       "Columns: [review_title, review_verbatim, role, status, location, date, rating]\n",
       "Index: []"
      ]
     },
     "execution_count": 6,
     "metadata": {},
     "output_type": "execute_result"
    }
   ],
   "source": [
    "df.head()"
   ]
  },
  {
   "cell_type": "code",
   "execution_count": 101,
   "metadata": {},
   "outputs": [],
   "source": [
    "import csv\n",
    "df.to_csv('PNC_indeed_062022.csv', index=False, quoting=csv.QUOTE_ALL)"
   ]
  }
 ],
 "metadata": {
  "interpreter": {
   "hash": "c523a98d0998b9eefbda53c522ba69fc8aa59127e57b4bf3d7bcbf8dde8c8b49"
  },
  "kernelspec": {
   "display_name": "Python 3.9.13 ('.practice_venv': venv)",
   "language": "python",
   "name": "python3"
  },
  "language_info": {
   "codemirror_mode": {
    "name": "ipython",
    "version": 3
   },
   "file_extension": ".py",
   "mimetype": "text/x-python",
   "name": "python",
   "nbconvert_exporter": "python",
   "pygments_lexer": "ipython3",
   "version": "3.9.13"
  },
  "orig_nbformat": 4
 },
 "nbformat": 4,
 "nbformat_minor": 2
}
